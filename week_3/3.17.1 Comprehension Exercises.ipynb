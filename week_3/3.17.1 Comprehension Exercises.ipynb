{
 "cells": [
  {
   "cell_type": "markdown",
   "metadata": {},
   "source": [
    "Use a comprehension to make a list of the square numbers below 100 that give a remainder of 1 when divided by 3."
   ]
  },
  {
   "cell_type": "code",
   "execution_count": 2,
   "metadata": {
    "collapsed": false
   },
   "outputs": [
    {
     "data": {
      "text/plain": [
       "[1, 4, 16, 25, 49, 64]"
      ]
     },
     "execution_count": 2,
     "metadata": {},
     "output_type": "execute_result"
    }
   ],
   "source": [
    "[x**2 for x in range(0,10) if (x**2)%3 == 1]"
   ]
  },
  {
   "cell_type": "markdown",
   "metadata": {},
   "source": [
    "A string is defined in the code snippet below.  Split it into individual words and use a comprehension to make a list of the first letters of each word in the snippet."
   ]
  },
  {
   "cell_type": "code",
   "execution_count": 9,
   "metadata": {
    "collapsed": false
   },
   "outputs": [
    {
     "data": {
      "text/plain": [
       "['I',\n",
       " 'l',\n",
       " 'm',\n",
       " 'l',\n",
       " 'a',\n",
       " 'q',\n",
       " 'm',\n",
       " 'a',\n",
       " 'a',\n",
       " 't',\n",
       " 'N',\n",
       " 'e',\n",
       " 'm',\n",
       " 'n',\n",
       " 't',\n",
       " 'm',\n",
       " 'n',\n",
       " 't',\n",
       " 's',\n",
       " 'n',\n",
       " 'm',\n",
       " 't',\n",
       " 'a',\n",
       " 'a',\n",
       " 't',\n",
       " 'b',\n",
       " 'F',\n",
       " 't',\n",
       " 't',\n",
       " 's',\n",
       " 'o',\n",
       " 'l',\n",
       " 'I',\n",
       " 'f']"
      ]
     },
     "execution_count": 9,
     "metadata": {},
     "output_type": "execute_result"
    }
   ],
   "source": [
    "text = \"\"\"I live my life a quarter mile at a time. \n",
    "Nothing else matters: not the mortgage, not the store, not my team and all their bullshit. \n",
    "For those ten seconds or less, I’m free.\"\"\"\n",
    "words = text.split()\n",
    "[word[0] for word in words]"
   ]
  },
  {
   "cell_type": "markdown",
   "metadata": {},
   "source": [
    "A Pythagorean triple is a set $(x,y,z)$, with positive integers $x \\leq y \\leq z$ such that $x^2 + y^2 = z^2$.  Use a comprehension to make a list of all Pythagorean triples with numbers below 25."
   ]
  },
  {
   "cell_type": "code",
   "execution_count": 18,
   "metadata": {
    "collapsed": false
   },
   "outputs": [
    {
     "data": {
      "text/plain": [
       "[(3, 4, 5), (6, 8, 10), (5, 12, 13), (9, 12, 15), (8, 15, 17), (12, 16, 20)]"
      ]
     },
     "execution_count": 18,
     "metadata": {},
     "output_type": "execute_result"
    }
   ],
   "source": [
    "[(x,y,z) for z in range(0,25) for y in range(0,z) for x in range (0,y) if (x**2) + (y**2) == (z**2)]"
   ]
  },
  {
   "cell_type": "markdown",
   "metadata": {},
   "source": [
    "Given a word, provided below, use a comprehension to make a list of all strings that can be formed by deleting exactly one character from the word."
   ]
  },
  {
   "cell_type": "code",
   "execution_count": 22,
   "metadata": {
    "collapsed": false
   },
   "outputs": [
    {
     "data": {
      "text/plain": [
       "['elcomed', 'Wlcomed', 'Wecomed', 'Welomed', 'Welcmed', 'Welcoed', 'Welcomd']"
      ]
     },
     "execution_count": 22,
     "metadata": {},
     "output_type": "execute_result"
    }
   ],
   "source": [
    "word = \"Welcomed\"\n",
    "[word[:index]+word[index+1:] for index in range(0,len(word)-1)]"
   ]
  },
  {
   "cell_type": "markdown",
   "metadata": {},
   "source": [
    "Given a word, provided below, use a comprehension to make a list of all strings that can be formed by replacing exactly one vowel in the word with a different vowel."
   ]
  },
  {
   "cell_type": "code",
   "execution_count": 23,
   "metadata": {
    "collapsed": false
   },
   "outputs": [
    {
     "data": {
      "text/plain": [
       "['Baoted',\n",
       " 'Beoted',\n",
       " 'Bioted',\n",
       " 'Booted',\n",
       " 'Buoted',\n",
       " 'Boated',\n",
       " 'Boeted',\n",
       " 'Boited',\n",
       " 'Booted',\n",
       " 'Bouted',\n",
       " 'Bootad',\n",
       " 'Booted',\n",
       " 'Bootid',\n",
       " 'Bootod',\n",
       " 'Bootud']"
      ]
     },
     "execution_count": 23,
     "metadata": {},
     "output_type": "execute_result"
    }
   ],
   "source": [
    "word = \"Booted\"\n",
    "[word[:index]+vowel+word[index+1:] for index in range(0,len(word)-1) for vowel in \"aeiou\" if word[index] in \"aeiou\"]"
   ]
  }
 ],
 "metadata": {
  "anaconda-cloud": {},
  "kernelspec": {
   "display_name": "Python [default]",
   "language": "python",
   "name": "python3"
  },
  "language_info": {
   "codemirror_mode": {
    "name": "ipython",
    "version": 3
   },
   "file_extension": ".py",
   "mimetype": "text/x-python",
   "name": "python",
   "nbconvert_exporter": "python",
   "pygments_lexer": "ipython3",
   "version": "3.5.2"
  }
 },
 "nbformat": 4,
 "nbformat_minor": 0
}
