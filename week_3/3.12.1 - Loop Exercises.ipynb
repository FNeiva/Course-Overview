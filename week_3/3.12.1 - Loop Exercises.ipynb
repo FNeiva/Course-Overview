{
 "cells": [
  {
   "cell_type": "markdown",
   "metadata": {},
   "source": [
    "1. Write a script that prompts the user for his or her name. Using a loop that counts downward, print the name with the letters reversed. You may use `s.lower()` and `s.upper()` to change a string `s` to lowercase and uppercase letters.\n",
    "```\n",
    "Enter your name: Paul \n",
    "Luap\n",
    "```\n",
    "If the name is the same forward and backwards, print \"Palindrome!\" on the next line.\n",
    "```\n",
    "Enter your name: Ana \n",
    "Ana \n",
    "Palindrome!\n",
    "```"
   ]
  },
  {
   "cell_type": "code",
   "execution_count": 7,
   "metadata": {
    "collapsed": false
   },
   "outputs": [
    {
     "name": "stdout",
     "output_type": "stream",
     "text": [
      "Enter your name: Ana\n",
      "Ana\n",
      "Palindrome!\n"
     ]
    }
   ],
   "source": [
    "name = input(\"Enter your name: \")\n",
    "revname = \"\"\n",
    "counter = len(name)-1\n",
    "while counter >= 0:\n",
    "    if counter == len(name)-1:\n",
    "        revname += name[counter].upper()\n",
    "    else:\n",
    "        revname += name[counter].lower()\n",
    "    counter -= 1\n",
    "print(revname)\n",
    "if revname == name:\n",
    "    print(\"Palindrome!\")"
   ]
  },
  {
   "cell_type": "markdown",
   "metadata": {},
   "source": [
    "2. Write a script that prompts the user for an integer tree size, then displays a number tree as shown below:\n",
    "\n",
    "Enter a size: 5 \n",
    "```\n",
    "    1\n",
    "   121\n",
    "  12321\n",
    " 1234321 \n",
    "123454321\n",
    "```"
   ]
  },
  {
   "cell_type": "code",
   "execution_count": 6,
   "metadata": {
    "collapsed": false
   },
   "outputs": [
    {
     "name": "stdout",
     "output_type": "stream",
     "text": [
      "Enter a size: 5\n",
      "    1     \n",
      "   121    \n",
      "  12321   \n",
      " 1234321  \n",
      "123454321 \n"
     ]
    }
   ],
   "source": [
    "n = int(input(\"Enter a size: \"))\n",
    "line_count = 1\n",
    "while line_count <= n:\n",
    "    line = \"\"\n",
    "    pos = 0\n",
    "    while pos < n-line_count:\n",
    "        line += \" \"\n",
    "        pos += 1\n",
    "    char = 1\n",
    "    while char < line_count:\n",
    "        line += str(char)\n",
    "        char += 1\n",
    "        pos += 1\n",
    "    while char > 0:\n",
    "        line += str(char)\n",
    "        char -= 1\n",
    "        pos += 1\n",
    "    while pos < 2*n:\n",
    "        line += \" \"\n",
    "        pos += 1\n",
    "    print(line)\n",
    "    line_count += 1\n",
    "    "
   ]
  },
  {
   "cell_type": "markdown",
   "metadata": {},
   "source": [
    "3. The Fibonacci numbers begin with 1, 1.  After the first two numbers, each number is the sum of the previous two. 1 + 1 = 2, so 2 is the third number. Then 1 + 2 = 3, so 3 is the next one, and so on. Write a script that prompts the user for a number, then prints all the Fibonacci numbers that are less than or equal to the input, in order.\n",
    "\n",
    "```\n",
    "Enter a number: 15\n",
    "1 1 2 3 5 8 13\n",
    "```"
   ]
  },
  {
   "cell_type": "code",
   "execution_count": 14,
   "metadata": {
    "collapsed": false
   },
   "outputs": [
    {
     "name": "stdout",
     "output_type": "stream",
     "text": [
      "Enter a number: 8\n",
      "1 1 2 3 5 8\n"
     ]
    }
   ],
   "source": [
    "n = int(input(\"Enter a number: \"))\n",
    "fib_previous = 1\n",
    "fib_current = 1\n",
    "while fib_current <= n:\n",
    "    print(str(fib_previous), end = \" \")\n",
    "    fib_next = fib_previous + fib_current\n",
    "    fib_previous = fib_current\n",
    "    fib_current = fib_next\n",
    "print(str(fib_previous))"
   ]
  },
  {
   "cell_type": "markdown",
   "metadata": {},
   "source": [
    "Pascal's triangle is a triangle of numbers that is computed as follows.  The first row contains a 1.  Each row after that begins and ends with a 1, and every other number is the sum of the two numbers above it.  The first six rows of Pascal's triangle are shown below.\n",
    "```\n",
    "      1\n",
    "     1 1\n",
    "    1 2 1\n",
    "  1  3 3  1\n",
    " 1 4  6  4 1\n",
    "1 5 10 10 5 1\n",
    "```\n",
    "Write a script to compute the *n*th row of Pascal's triangle."
   ]
  },
  {
   "cell_type": "code",
   "execution_count": 26,
   "metadata": {
    "collapsed": false
   },
   "outputs": [
    {
     "name": "stdout",
     "output_type": "stream",
     "text": [
      "Enter a number: 6\n",
      "1 5 10 10 5 1 "
     ]
    }
   ],
   "source": [
    "n = int(input(\"Enter a number: \"))\n",
    "prev_row = [1]\n",
    "cur_row = [1]\n",
    "row_count = 1\n",
    "while row_count < n:\n",
    "    prev_row = cur_row\n",
    "    cur_row = []\n",
    "    index = 0\n",
    "    while index <= len(prev_row):\n",
    "        if index == 0:\n",
    "            cur_row.append(prev_row[0])\n",
    "        else:\n",
    "            if index == len(prev_row):\n",
    "                cur_row.append(prev_row[len(prev_row)-1])\n",
    "            else:\n",
    "                cur_row.append(prev_row[index-1] + prev_row[index])\n",
    "        index += 1\n",
    "    row_count += 1\n",
    "counter = 0\n",
    "while counter < len(cur_row):\n",
    "    print(str(cur_row[counter]), end = \" \")\n",
    "    counter += 1"
   ]
  }
 ],
 "metadata": {
  "anaconda-cloud": {},
  "kernelspec": {
   "display_name": "Python [default]",
   "language": "python",
   "name": "python3"
  },
  "language_info": {
   "codemirror_mode": {
    "name": "ipython",
    "version": 3
   },
   "file_extension": ".py",
   "mimetype": "text/x-python",
   "name": "python",
   "nbconvert_exporter": "python",
   "pygments_lexer": "ipython3",
   "version": "3.5.2"
  }
 },
 "nbformat": 4,
 "nbformat_minor": 0
}
