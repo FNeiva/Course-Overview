{
 "cells": [
  {
   "cell_type": "markdown",
   "metadata": {},
   "source": [
    "1. Try inputting 0.25 into the bisection search algorithm below and confirm that it doesn't work.  Then correct the algorithm so that it works for all positive numbers."
   ]
  },
  {
   "cell_type": "code",
   "execution_count": 11,
   "metadata": {
    "collapsed": false
   },
   "outputs": [
    {
     "name": "stdout",
     "output_type": "stream",
     "text": [
      "enter a number:0.1\n",
      "low = 0.1 high = 1.0\n",
      "low = 0.1 high = 0.55\n",
      "low = 0.1 high = 0.325\n",
      "low = 0.21250000000000002 high = 0.325\n",
      "low = 0.26875000000000004 high = 0.325\n",
      "low = 0.296875 high = 0.325\n",
      "low = 0.3109375 high = 0.325\n",
      "low = 0.3109375 high = 0.31796875\n",
      "low = 0.314453125 high = 0.31796875\n",
      "low = 0.3162109375 high = 0.31796875\n",
      "low = 0.3162109375 high = 0.31708984375000004\n",
      "low = 0.3162109375 high = 0.316650390625\n",
      "low = 0.3162109375 high = 0.3164306640625\n",
      "low = 0.3162109375 high = 0.31632080078125\n",
      "low = 0.3162109375 high = 0.31626586914062504\n",
      "low = 0.3162109375 high = 0.3162384033203125\n",
      "number of guesses = 16\n",
      "0.31623153686523436 is close to square root of 0.1\n"
     ]
    }
   ],
   "source": [
    "## Bisection Search to Find a Square Root\n",
    "\n",
    "x = float(input(\"enter a number:\"))\n",
    "epsilon = 0.00001\n",
    "num_guesses = 0\n",
    "if x >= 1:\n",
    "    low = 0.0\n",
    "    high = x\n",
    "else:\n",
    "    low = x\n",
    "    high = 1.0\n",
    "ans = (high + low)/2.0\n",
    "while high-low >= 2 * epsilon:\n",
    "    print(\"low =\",low,\"high =\", high)\n",
    "    num_guesses += 1\n",
    "    if ans**2 < x:\n",
    "        low = ans\n",
    "    else:\n",
    "        high = ans\n",
    "    ans = (high + low)/2.0\n",
    "print('number of guesses =', num_guesses)\n",
    "print(ans, 'is close to square root of', x)"
   ]
  },
  {
   "cell_type": "markdown",
   "metadata": {},
   "source": [
    " 2. You run the bisection search algorithm to find the square root of x to a precision of epsilon.  Write down a formula for how many loop iterations it takes for the algorithm to complete.  Hint: first suppose that x has the special value $epsilon * 2^n$, where n is an integer."
   ]
  }
 ],
 "metadata": {
  "anaconda-cloud": {},
  "kernelspec": {
   "display_name": "Python [default]",
   "language": "python",
   "name": "python3"
  },
  "language_info": {
   "codemirror_mode": {
    "name": "ipython",
    "version": 3
   },
   "file_extension": ".py",
   "mimetype": "text/x-python",
   "name": "python",
   "nbconvert_exporter": "python",
   "pygments_lexer": "ipython3",
   "version": "3.5.2"
  }
 },
 "nbformat": 4,
 "nbformat_minor": 0
}
