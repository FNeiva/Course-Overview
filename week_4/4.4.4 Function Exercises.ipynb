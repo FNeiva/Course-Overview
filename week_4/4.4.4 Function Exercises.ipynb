{
 "cells": [
  {
   "cell_type": "markdown",
   "metadata": {},
   "source": [
    "Write a function, sum_digits which takes an int and returns the sum of its digits.\n",
    "\n",
    "Prompt the user for their phone number, x.  \n",
    "\n",
    "First, using your function, compute x minus the sum of the digits of x and store it in the variable result.\n",
    "\n",
    "Next, if result has more than one digit, replace it by the sum of the digits of result.  Do this repeatedly until the result has just one digit, then display it.  \n",
    "\n",
    "What number do you get?"
   ]
  },
  {
   "cell_type": "code",
   "execution_count": null,
   "metadata": {
    "collapsed": false
   },
   "outputs": [],
   "source": [
    "def sum_digits(x):\n",
    "    step = 10\n",
    "    result = 0\n",
    "    while x > 0:\n",
    "        result += x%step\n",
    "        x = x - x%step\n",
    "        x = x/step\n",
    "    return result\n",
    "\n",
    "x = int(input(\"Enter your phone number: \"))\n",
    "result = x - sum_digits(x)\n",
    "while result/10 > 1:\n",
    "    result = sum_digits(result)\n",
    "print(\"Result is:\",result)"
   ]
  },
  {
   "cell_type": "markdown",
   "metadata": {},
   "source": [
    "Write a function is_consonant() that takes a character and returns True if it is a consonant.\n",
    "\n",
    "Use your function to create a new fuction to_piglatin() that takes a word, moves all starting consonants to the end of the word, then adds ay to the end and returns the result.\n",
    "\n",
    "Prompt the user for their name and display the name in Pig Latin."
   ]
  },
  {
   "cell_type": "code",
   "execution_count": 3,
   "metadata": {
    "collapsed": false
   },
   "outputs": [
    {
     "name": "stdout",
     "output_type": "stream",
     "text": [
      "Enter your name: Francisco\n",
      "Name in Pig Latin: Anciscofray\n"
     ]
    }
   ],
   "source": [
    "def is_consonant(char):\n",
    "    if char.lower() not in \"aeiou\":\n",
    "        return True\n",
    "    else:\n",
    "        return False\n",
    "\n",
    "def to_piglatin(word):\n",
    "    iteration_count = 0\n",
    "    result = word\n",
    "    # The iteration counter avoids infinite loops if the word is only made of consonants\n",
    "    while is_consonant(result[0]) and iteration_count < len(word):\n",
    "        char = result[0]\n",
    "        result = result + char.lower()\n",
    "        result = result[1:len(result)]\n",
    "        iteration_count += 1\n",
    "    result = result + \"ay\"\n",
    "    result = result[0].upper() + result[1:len(result)]\n",
    "    return result\n",
    "\n",
    "name = input(\"Enter your name: \")\n",
    "print(\"Name in Pig Latin:\",to_piglatin(name))"
   ]
  }
 ],
 "metadata": {
  "anaconda-cloud": {},
  "kernelspec": {
   "display_name": "Python [default]",
   "language": "python",
   "name": "python3"
  },
  "language_info": {
   "codemirror_mode": {
    "name": "ipython",
    "version": 3
   },
   "file_extension": ".py",
   "mimetype": "text/x-python",
   "name": "python",
   "nbconvert_exporter": "python",
   "pygments_lexer": "ipython3",
   "version": "3.5.2"
  }
 },
 "nbformat": 4,
 "nbformat_minor": 0
}
