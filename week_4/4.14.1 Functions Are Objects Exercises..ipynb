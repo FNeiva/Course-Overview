{
 "cells": [
  {
   "cell_type": "markdown",
   "metadata": {},
   "source": [
    "The following code defines a list of names and also contains a header for the function, best.  This function should take two arguments: a function, score, and a list of strings, names.  Fill in the function so that it applies the score function to each string in names and returns the one with the highest score. If there are ties in the list, your function should return the first item with the maximum score."
   ]
  },
  {
   "cell_type": "code",
   "execution_count": 1,
   "metadata": {
    "collapsed": true
   },
   "outputs": [],
   "source": [
    "def best(score, names):\n",
    "    highest = 0\n",
    "    highest_name = \"\"\n",
    "    for name in names:\n",
    "        namescore = score(name)\n",
    "        if namescore > highest:\n",
    "            highest = namescore\n",
    "            highest_name = name\n",
    "    return highest_name\n",
    "\n",
    "names = [\"Ben\", \"April\", \"Zaber\", \"Alexis\", \"McJagger\", \"J.J.\", \"Madonna\"]"
   ]
  },
  {
   "cell_type": "markdown",
   "metadata": {},
   "source": [
    "Next, define a function, number_of_vowels, that returns the number of vowels in a string.  Use it with your best function to find the name in names with the most vowels."
   ]
  },
  {
   "cell_type": "code",
   "execution_count": 2,
   "metadata": {
    "collapsed": false
   },
   "outputs": [
    {
     "name": "stdout",
     "output_type": "stream",
     "text": [
      "Alexis\n"
     ]
    }
   ],
   "source": [
    "def number_of_vowels(word):\n",
    "    wordscore = 0\n",
    "    for char in word:\n",
    "        if char.lower() in \"aeiou\":\n",
    "            wordscore += 1\n",
    "    return wordscore\n",
    "\n",
    "mostvowels = best(number_of_vowels,names)\n",
    "print(mostvowels)"
   ]
  },
  {
   "cell_type": "markdown",
   "metadata": {},
   "source": [
    "Next, pass a lambda function into your best function to find the name in names with the highest number of a's."
   ]
  },
  {
   "cell_type": "code",
   "execution_count": 4,
   "metadata": {
    "collapsed": false
   },
   "outputs": [
    {
     "name": "stdout",
     "output_type": "stream",
     "text": [
      "Madonna\n"
     ]
    }
   ],
   "source": [
    "mostas = best(lambda name: name.count('a'),names)\n",
    "print(mostas)"
   ]
  },
  {
   "cell_type": "code",
   "execution_count": null,
   "metadata": {
    "collapsed": true
   },
   "outputs": [],
   "source": []
  }
 ],
 "metadata": {
  "anaconda-cloud": {},
  "kernelspec": {
   "display_name": "Python [default]",
   "language": "python",
   "name": "python3"
  },
  "language_info": {
   "codemirror_mode": {
    "name": "ipython",
    "version": 3
   },
   "file_extension": ".py",
   "mimetype": "text/x-python",
   "name": "python",
   "nbconvert_exporter": "python",
   "pygments_lexer": "ipython3",
   "version": "3.5.2"
  }
 },
 "nbformat": 4,
 "nbformat_minor": 0
}
