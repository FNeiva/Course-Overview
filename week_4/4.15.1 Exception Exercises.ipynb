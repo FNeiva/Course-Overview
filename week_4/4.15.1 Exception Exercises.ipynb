{
 "cells": [
  {
   "cell_type": "markdown",
   "metadata": {},
   "source": [
    "Refactor this code that attempts to compute a reciprocal so that it keeps prompting the user for a number repeatedly until the user successfully a valid number.  If the user enters 0, the program should print that zero does not have a reciprocal, then terminate.\n",
    "*Missing a verb in sentence 1 after \"successfully.\"*"
   ]
  },
  {
   "cell_type": "code",
   "execution_count": 4,
   "metadata": {
    "collapsed": false
   },
   "outputs": [
    {
     "name": "stdout",
     "output_type": "stream",
     "text": [
      "Enter a number: d\n",
      "You did not enter a valid number.\n",
      "Enter a number: wer\n",
      "You did not enter a valid number.\n",
      "Enter a number: 0\n",
      "Zero does not have a reciprocal\n"
     ]
    }
   ],
   "source": [
    "while True:\n",
    "    try:\n",
    "        x = float(input(\"Enter a number: \"))\n",
    "        print(\"The reciprocal of your number is\", 1/x)\n",
    "        break\n",
    "    except ValueError:\n",
    "        print(\"You did not enter a valid number.\")\n",
    "    except ZeroDivisionError:\n",
    "        print(\"Zero does not have a reciprocal\")\n",
    "        break\n",
    "    except:\n",
    "        print(\"something else went wrong.\")"
   ]
  },
  {
   "cell_type": "markdown",
   "metadata": {},
   "source": [
    "Write a function that takes a list of grades and a corresponding list of percentages and returns the weighted average of the grades.  Your function should raise an exception if a percentage is less than 0 or greater than 100, and a different exception if the percentages do not add to 100.\n",
    "\n",
    "Back in the main program, run your function on grades1 with weights1 and grades2 with weights2, defined below.  Catch the errors generated in each case and print a useful message for the user."
   ]
  },
  {
   "cell_type": "code",
   "execution_count": 7,
   "metadata": {
    "collapsed": false
   },
   "outputs": [
    {
     "name": "stdout",
     "output_type": "stream",
     "text": [
      "Weights did not sum up to 100!\n",
      "Weight percentage is less than 0 or greater than 100!\n"
     ]
    }
   ],
   "source": [
    "def weighted_average(grades,weights):\n",
    "    res = 0\n",
    "    pct = 0\n",
    "    for grade,weight in zip(grades,weights):\n",
    "        if (weight < 0 or weight > 100):\n",
    "            raise ValueError()\n",
    "        res += grade*(weight/100)\n",
    "        pct += weight\n",
    "    if (pct != 100):\n",
    "        raise Exception()\n",
    "    return res\n",
    "    \n",
    "\n",
    "grades1 = [88,99,100,70]\n",
    "weights1 = [30, 30, 30, 5]\n",
    "\n",
    "grades2 = [78, 75, 80, 99]\n",
    "weights2 = [110, 10, -20]\n",
    "\n",
    "try:\n",
    "    wavg = weighted_average(grades1,weights1)\n",
    "    print(\"Weighted Average is\",wavg)\n",
    "    wavg = weighted_average(grades2,weights2)\n",
    "    print(\"Weighted Average is\",wavg)\n",
    "except ValueError:\n",
    "    print(\"Weight percentage is less than 0 or greater than 100!\")\n",
    "except:\n",
    "    print(\"Weights did not sum up to 100!\")\n",
    "    \n",
    "try:\n",
    "    wavg = weighted_average(grades2,weights2)\n",
    "    print(\"Weighted Average is\",wavg)\n",
    "except ValueError:\n",
    "    print(\"Weight percentage is less than 0 or greater than 100!\")\n",
    "except:\n",
    "    print(\"Weights did not sum up to 100!\")"
   ]
  },
  {
   "cell_type": "code",
   "execution_count": null,
   "metadata": {
    "collapsed": true
   },
   "outputs": [],
   "source": []
  }
 ],
 "metadata": {
  "anaconda-cloud": {},
  "kernelspec": {
   "display_name": "Python [default]",
   "language": "python",
   "name": "python3"
  },
  "language_info": {
   "codemirror_mode": {
    "name": "ipython",
    "version": 3
   },
   "file_extension": ".py",
   "mimetype": "text/x-python",
   "name": "python",
   "nbconvert_exporter": "python",
   "pygments_lexer": "ipython3",
   "version": "3.5.2"
  }
 },
 "nbformat": 4,
 "nbformat_minor": 0
}
